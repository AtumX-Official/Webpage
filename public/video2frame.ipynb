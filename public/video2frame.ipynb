{
 "cells": [
  {
   "attachments": {},
   "cell_type": "markdown",
   "id": "c2a8ca7a-d316-43c2-a6ef-2ed4a90bd327",
   "metadata": {},
   "source": [
    "# Dependencies"
   ]
  },
  {
   "cell_type": "code",
   "execution_count": 1,
   "id": "731d3eb2-2784-4cb1-bb21-68ba4ff2975c",
   "metadata": {
    "tags": []
   },
   "outputs": [],
   "source": [
    "import os\n",
    "import cv2\n",
    "import sys"
   ]
  },
  {
   "attachments": {},
   "cell_type": "markdown",
   "id": "fcf14ef6-53fa-4082-8996-c8af8808c0f7",
   "metadata": {},
   "source": [
    "# Configurations for Video2Frames\n",
    "1. import video into directory\n",
    "2. update `target` variable\n",
    "3. run last code block\n",
    "4. folder with image frames should be generated"
   ]
  },
  {
   "cell_type": "code",
   "execution_count": 2,
   "id": "d9bbb9d7-2e1b-4334-92da-aa50206455c9",
   "metadata": {},
   "outputs": [
    {
     "name": "stderr",
     "output_type": "stream",
     "text": [
      "[ WARN:0@0.094] global /private/var/folders/nz/j6p8yfhx1mv_0grj5xl4650h0000gp/T/abs_d9lyif19nl/croot/opencv-suite_1676472756314/work/modules/videoio/src/cap_gstreamer.cpp (2386) handleMessage OpenCV | GStreamer warning: your GStreamer installation is missing a required plugin\n",
      "[ WARN:0@0.094] global /private/var/folders/nz/j6p8yfhx1mv_0grj5xl4650h0000gp/T/abs_d9lyif19nl/croot/opencv-suite_1676472756314/work/modules/videoio/src/cap_gstreamer.cpp (2402) handleMessage OpenCV | GStreamer warning: Embedded video playback halted; module uridecodebin0 reported: Your GStreamer installation is missing a plug-in.\n",
      "[ WARN:0@0.094] global /private/var/folders/nz/j6p8yfhx1mv_0grj5xl4650h0000gp/T/abs_d9lyif19nl/croot/opencv-suite_1676472756314/work/modules/videoio/src/cap_gstreamer.cpp (1356) open OpenCV | GStreamer warning: unable to start pipeline\n",
      "[ WARN:0@0.094] global /private/var/folders/nz/j6p8yfhx1mv_0grj5xl4650h0000gp/T/abs_d9lyif19nl/croot/opencv-suite_1676472756314/work/modules/videoio/src/cap_gstreamer.cpp (862) isPipelinePlaying OpenCV | GStreamer warning: GStreamer: pipeline have not been created\n"
     ]
    }
   ],
   "source": [
    "sec = 0\n",
    "frameRate = 0.1\n",
    "count=1\n",
    "target = \"mobile\"\n",
    "vidcap = cv2.VideoCapture(target + '.mp4')"
   ]
  },
  {
   "cell_type": "code",
   "execution_count": 3,
   "id": "1b939935-e9ef-4474-ae9a-0de2787adb27",
   "metadata": {
    "tags": []
   },
   "outputs": [],
   "source": [
    "def getFrame(sec):\n",
    "    vidcap.set(cv2.CAP_PROP_POS_MSEC,sec*1000)\n",
    "    hasFrames,image = vidcap.read()\n",
    "    if hasFrames:\n",
    "        imgPath = os.path.join(target,\"image\"+str(count)+\".jpg\")\n",
    "        if not os.path.exists(target):\n",
    "            os.makedirs(target)\n",
    "        cv2.imwrite(imgPath, image)\n",
    "    return hasFrames"
   ]
  },
  {
   "attachments": {},
   "cell_type": "markdown",
   "id": "1e41b5a5-331e-43fc-b544-7e9399c9997d",
   "metadata": {},
   "source": [
    "# Run Video2Frames"
   ]
  },
  {
   "cell_type": "code",
   "execution_count": 5,
   "id": "5908257e-0fab-44db-80aa-9c33f44fffea",
   "metadata": {
    "tags": []
   },
   "outputs": [],
   "source": [
    "success = getFrame(sec)\n",
    "\n",
    "while success:\n",
    "    print(\"processing frame: \" + str(count))\n",
    "    count = count + 1\n",
    "    sec = sec + frameRate\n",
    "    sec = round(sec, 2)\n",
    "    success = getFrame(sec)\n",
    "print(\"COMPLETED\")"
   ]
  }
 ],
 "metadata": {
  "kernelspec": {
   "display_name": "Python 3 (ipykernel)",
   "language": "python",
   "name": "python3"
  },
  "language_info": {
   "codemirror_mode": {
    "name": "ipython",
    "version": 3
   },
   "file_extension": ".py",
   "mimetype": "text/x-python",
   "name": "python",
   "nbconvert_exporter": "python",
   "pygments_lexer": "ipython3",
   "version": "3.10.9"
  }
 },
 "nbformat": 4,
 "nbformat_minor": 5
}
